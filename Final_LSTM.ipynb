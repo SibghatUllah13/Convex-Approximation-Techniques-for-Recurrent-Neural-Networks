{
 "cells": [
  {
   "cell_type": "code",
   "execution_count": 5,
   "metadata": {},
   "outputs": [],
   "source": [
    "import torch \n",
    "import torch.nn as nn\n",
    "import torchvision\n",
    "import torchvision.transforms as transforms\n",
    "import os\n",
    "from autograd.misc import flatten\n",
    "import numpy as np\n",
    "import autograd.numpy as anp\n",
    "from autograd import value_and_grad\n",
    "from numpy import array_split\n",
    "from numpy.random import choice\n",
    "from numpy.linalg import solve\n",
    "import matplotlib.pyplot as plt\n",
    "import pandas as pd\n",
    "from autograd import jacobian"
   ]
  },
  {
   "cell_type": "markdown",
   "metadata": {},
   "source": [
    "## Utils"
   ]
  },
  {
   "cell_type": "code",
   "execution_count": 6,
   "metadata": {},
   "outputs": [],
   "source": [
    "def init_hyper_param():\n",
    "    \"\"\"\n",
    "    Initialize Hyper Parameters\n",
    "    \"\"\"\n",
    "    device = torch.device('cuda' if torch.cuda.is_available() else 'cpu')\n",
    "    sequence_length = 28\n",
    "    input_size = 28\n",
    "    hidden_size = 14\n",
    "    num_layers = 2\n",
    "    num_classes = 10\n",
    "    batch_size = 40\n",
    "    return device,sequence_length,input_size,hidden_size,num_layers,num_classes,batch_size\n",
    "\n",
    "\n",
    "def transform_image_data(batch_size):\n",
    "    \"\"\"\n",
    "    Load and Transform Mnist Data Set into Batches\n",
    "    \"\"\"\n",
    "    train_dataset = torchvision.datasets.MNIST(root=os.getcwd(),\n",
    "                                           train=True, \n",
    "                                           transform=transforms.ToTensor(),\n",
    "                                           download=True)\n",
    "    test_dataset = torchvision.datasets.MNIST(root=os.getcwd(),\n",
    "                                              train=False, \n",
    "                                              transform=transforms.ToTensor())\n",
    "    train_loader = torch.utils.data.DataLoader(dataset=train_dataset,\n",
    "                                               batch_size=batch_size, \n",
    "                                               shuffle=True)\n",
    "    test_loader = torch.utils.data.DataLoader(dataset=test_dataset,\n",
    "                                              batch_size=batch_size, \n",
    "                                              shuffle=True)\n",
    "    return train_loader,test_loader\n",
    "\n",
    "\n",
    "\n",
    "def one_hot_encoding(labels,num_classes=10):\n",
    "    \"\"\"\n",
    "    One Hot Encoding\n",
    "    \"\"\"\n",
    "    temp = np.zeros([len(labels),num_classes])\n",
    "    for i in range(len(labels)):\n",
    "        temp[i][int(labels[i])] = 1\n",
    "    return torch.from_numpy(temp)\n",
    "\n",
    "\n",
    "def Flatten_Params(NN):\n",
    "    \"\"\"\n",
    "    Flatten the Parameters of a Given Model\n",
    "    \"\"\"\n",
    "    Parameters_Flattened = list(NN.parameters())[0].reshape(-1,1)\n",
    "    for i in range(1,len(list(NN.parameters()))):\n",
    "        Parameters_Flattened = torch.cat((Parameters_Flattened,list(NN.parameters())[i].reshape(-1,1)))\n",
    "    return Parameters_Flattened\n",
    "\n",
    "def Flatten_Grad(Gradient):\n",
    "    \"\"\"\n",
    "    Flatten the Gradient\n",
    "    \"\"\"\n",
    "    Parameters_Flattened = list(Gradient)[0].reshape(-1,1)\n",
    "    for i in range(1,len(Gradient)):\n",
    "        Parameters_Flattened = torch.cat((Parameters_Flattened,Gradient[i].reshape(-1,1)))\n",
    "    return Parameters_Flattened\n",
    "\n",
    "\n",
    "\n",
    "def unflatten_param(Flat_Param,NN):\n",
    "    \"\"\"\n",
    "    Update the Model Parameters given by a Flattened Array\n",
    "    \"\"\"\n",
    "    Prev = 0\n",
    "    for parameter in NN.parameters():\n",
    "        if len(parameter.data.shape)>1:\n",
    "            New = Prev + (parameter.data.shape[0] * parameter.data.shape[1] )\n",
    "            parameter.data = Flat_Param[Prev:New].reshape(parameter.data.shape)\n",
    "            Prev =New\n",
    "        else:\n",
    "            New = Prev + parameter.data.shape[0]\n",
    "            parameter.data = Flat_Param[Prev:New].reshape(parameter.data.shape)\n",
    "            Prev = New\n",
    "    \n",
    "    return NN\n",
    "\n",
    "\n",
    "def next_mini_batch(dataset,batch_size,sequence_length,input_size,low,high):\n",
    "    \"\"\"\n",
    "    Next Mini Batch\n",
    "    \"\"\"\n",
    "    \n",
    "    X_batch = torch.zeros(batch_size,sequence_length,input_size)\n",
    "    y_batch = torch.zeros(batch_size)\n",
    "    Key = np.random.randint(low=low,high=high,size=batch_size)\n",
    "    i = 0\n",
    "    for element in Key:\n",
    "        X_batch[i] = dataset[element][0].reshape(sequence_length,input_size)\n",
    "        y_batch[i] = dataset.train_labels[element]\n",
    "        i+=1\n",
    "    return X_batch,y_batch\n",
    "\n",
    "def Cal_Accuracy(model,data_set,batch_size,sequence_length,input_size):\n",
    "    \"\"\"\n",
    "    Calculate the Accuracy\n",
    "    \"\"\"\n",
    "    X_batch,y_batch = next_mini_batch(data_set,batch_size,sequence_length,input_size,low=50000,high=60000)\n",
    "    output = model(X_batch)\n",
    "    output = torch.max(output,1)[1]\n",
    "    return (np.sum(output.detach().numpy()==y_batch.detach().numpy())/(batch_size)) * 100\n",
    "\n",
    "\n",
    "def Valid_Accuracy(model,data_set,batch_size,sequence_length,input_size):\n",
    "    \"\"\"Calculate the Avergae Accuracy over an iteration of 500 Batches\"\"\"\n",
    "    iters = 600\n",
    "    accuracy = torch.zeros(iters)\n",
    "    for i in range(iters):\n",
    "        accuracy[i] = Cal_Accuracy(model,data_set,batch_size,sequence_length,input_size)\n",
    "    return accuracy.detach().numpy()"
   ]
  },
  {
   "cell_type": "markdown",
   "metadata": {},
   "source": [
    "## Neural Network"
   ]
  },
  {
   "cell_type": "code",
   "execution_count": 7,
   "metadata": {},
   "outputs": [],
   "source": [
    "class RNN(nn.Module):\n",
    "    def __init__(self, input_size, hidden_size, num_layers, num_classes,device):\n",
    "        super(RNN, self).__init__()\n",
    "        self.device = device\n",
    "        self.hidden_size = hidden_size\n",
    "        self.num_layers = num_layers\n",
    "        self.rnn = nn.LSTM(input_size, hidden_size, num_layers, batch_first=True)\n",
    "        self.fc = nn.Linear(hidden_size, num_classes)\n",
    "      #  self.lsmax = nn.Softmax(dim=1)\n",
    "    \n",
    "    def forward(self, x):\n",
    "        #x = torch.transpose(x,1,2)\n",
    "        # Set initial hidden and cell states \n",
    "        h0 = torch.zeros(self.num_layers, x.size(0), self.hidden_size).to(self.device) \n",
    "        c0 = torch.zeros(self.num_layers, x.size(0), self.hidden_size).to(self.device)\n",
    "        \n",
    "        # Forward propagate LSTM\n",
    "        out, _ = self.rnn(x, (h0, c0))  # out: tensor of shape (batch_size, seq_length, hidden_size)\n",
    "        \n",
    "        # Decode the hidden state of the last time step\n",
    "        out = self.fc(out[:, -1, :])\n",
    "        #\n",
    "      #  out = self.lsmax(out)\n",
    "        \n",
    "        return out\n",
    "\n",
    "\n",
    "def random_initialization_neural_networks(in_size,h_size,n_layers,n_classes,device):\n",
    "    \"\"\"\n",
    "    Initialize the Weights \n",
    "    \"\"\"\n",
    "    lstm_model = RNN(in_size, h_size, n_layers, n_classes,device).to(device)\n",
    "    weight = Flatten_Params(lstm_model)\n",
    "    torch.manual_seed(0)\n",
    "    Normal = torch.distributions.normal.Normal(torch.tensor([0.0]), torch.tensor([0.1]))\n",
    "    weight = Normal.sample((len(weight),))\n",
    "    lstm_model = unflatten_param(weight,lstm_model)\n",
    "    return lstm_model,weight\n",
    "\n",
    "\n",
    "def squared_loss(NN, inputs, targets,Flattened_Param ,C):\n",
    "    \"\"\"\n",
    "    Regularized squared loss\n",
    "    \"\"\"\n",
    "    L = 0\n",
    "    regularizer = 0\n",
    "    Output = NN(inputs)\n",
    "    L = torch.mean((targets.float().reshape(-1,1)-Output.reshape(-1,1)) ** 2)\n",
    "    regularizer = C * torch.sum(Flattened_Param**2)\n",
    "    return L.float() + regularizer.float()\n",
    "\n",
    "\n",
    "def get_grad(NN, inputs, targets,Flattened_Param ,C):\n",
    "    \"\"\"\n",
    "    Compute the gradient of the loss function\n",
    "    \"\"\"\n",
    "    L = 0\n",
    "    Gradient = 0\n",
    "    L = squared_loss(NN,inputs,targets,Flattened_Param,C)\n",
    "    Gradient = torch.autograd.grad(L,NN.parameters(),retain_graph=True)\n",
    "    Gradient = Flatten_Grad(Gradient)\n",
    "    return L,Gradient"
   ]
  },
  {
   "cell_type": "markdown",
   "metadata": {},
   "source": [
    "## Optimizer"
   ]
  },
  {
   "cell_type": "code",
   "execution_count": 8,
   "metadata": {},
   "outputs": [],
   "source": [
    "def adam(NN,data_set,Flattened_Param,batch_size,sequence_length,input_size,low=0,high=50000 ,max_it=1000, step_size=0.01, b1=0.9, b2=0.999, eps=10**-8,C=0):\n",
    "   \n",
    "    \n",
    "    m = np.zeros(len(Flattened_Param))\n",
    "    v = np.zeros(len(Flattened_Param))\n",
    "    err = np.zeros(max_it)\n",
    "    grad = np.zeros(max_it)\n",
    "    \n",
    "    for t in range(max_it):\n",
    "        \n",
    "        \n",
    "        images,labels = next_mini_batch(data_set,batch_size,sequence_length,input_size,low,high)\n",
    "        labels = one_hot_encoding(labels)\n",
    "        \n",
    "        #err[t] = 0\n",
    "        #err[t] = torch.mean((NN(images).float().reshape(-1,1)-labels.float().reshape(-1,1)) ** 2) \n",
    "        #+ C * torch.sum(Flattened_Param.float()**2)\n",
    "        \n",
    "        \n",
    "        \n",
    "        err[t], g = get_grad(NN,images,labels,Flattened_Param,C)\n",
    "        \n",
    "        #print (err[t])\n",
    "        grad[t] = torch.sum(g**2)\n",
    "        \n",
    "        m = ((1 - b1) * g).detach().numpy()      + (b1 * m).reshape(-1,1)  # First  moment estimate.\n",
    "        v = ((1 - b2) * (g**2)).detach().numpy() + (b2 * v).reshape(-1,1)  # Second moment estimate.\n",
    "        mhat = m / (1 - b1**(t + 1))    # Bias correction.\n",
    "        vhat = v / (1 - b2**(t + 1))\n",
    "        Flattened_Param = Flattened_Param - (torch.from_numpy(step_size*mhat/(np.sqrt(vhat) + eps))).float()\n",
    "        #update the parameters in NN model\n",
    "        NN = unflatten_param(Flattened_Param,NN)\n",
    "        \n",
    "        \n",
    "    return NN, err, grad\n",
    "\n",
    "\n",
    "def get_Jacobian(NN,inp):\n",
    "    \"\"\"\n",
    "    Calculate Jacobian Matrix\n",
    "    \"\"\"\n",
    "    y_hat = (NN(inp)).reshape(-1,1)\n",
    "    Tot_Param = np.sum(np.asarray([len(p.view(-1)) for p in NN.parameters()]))\n",
    "    Jacobian = np.zeros([len(y_hat),Tot_Param])\n",
    "    for i in range(len(y_hat)):\n",
    "        Gradient =torch.autograd.grad(y_hat[i], NN.parameters(),retain_graph=True)\n",
    "        Gradient = Flatten_Grad(Gradient)\n",
    "        Jacobian[i,:] = Gradient.reshape(int(Tot_Param))\n",
    "        \n",
    "    return Jacobian\n",
    "\n",
    "\n",
    "\n",
    "\n",
    "def sca_ridge(NN,Flattened_Param,data_set,batch_size,sequence_length,input_size,low=0,high=50000,step_size=0.12,step_size_eps=0.0\n",
    "              ,rho = 0.9,rho_eps=0.0,C=0,blocks=1,virtual_processors=1,tau=0.2,max_it=1000):\n",
    "    \"\"\"\n",
    "    Stochastic Convex Approximation\n",
    "    \"\"\"\n",
    "    message = 'Successful' \n",
    "    if blocks < virtual_processors:\n",
    "        blocks = virtual_processors\n",
    "        \n",
    "    err = np.zeros(max_it)\n",
    "    grad = np.zeros(max_it)\n",
    "    d = np.zeros(len(Flattened_Param))\n",
    "    par_idx = array_split(np.arange(len(Flattened_Param)),blocks)\n",
    "    par_not_idx = np.ones((blocks, len(Flattened_Param)), dtype=bool)\n",
    "    \n",
    "    for p in range(blocks):\n",
    "        par_not_idx[p, par_idx[p]] = False\n",
    "        \n",
    "        \n",
    "    \n",
    "    for t in range(max_it):\n",
    "        \n",
    "        blocks_t = choice(blocks, virtual_processors, replace=False)\n",
    "        \n",
    "        images,labels = next_mini_batch(data_set,batch_size,sequence_length,input_size,low,high)\n",
    "        labels = one_hot_encoding(labels)\n",
    "        \n",
    "        #predict and compute current error\n",
    "        output = NN(images)\n",
    "        \n",
    "        \n",
    "        J = get_Jacobian(NN,images)\n",
    "        \n",
    "        e = (labels.float() - output.float()).reshape(-1,1)\n",
    "        \n",
    "        \n",
    "        \n",
    "        #compute loss on current iteration\n",
    "        err[t] = squared_loss(NN,images,labels,Flattened_Param,C)\n",
    "        #err[t] = torch.mean(e**2) + C * torch.mean(param**2)\n",
    "        #err[t] = torch.mean(torch.mul(e,e).float() + C * torch.mean(torch.mul(param,param)))\n",
    "        #torch.mean((targets.float().reshape(-1,1)-Output.reshape(-1,1)) ** 2\n",
    "        #C * torch.mean(Flattened_Param**2)\n",
    "        \n",
    "        #compute gradient on current iteration\n",
    "        g_loss = -2.0 * torch.mean(e.reshape(-1,1).float() * torch.from_numpy(J).float(),dim=0)\n",
    "        grad[t] = torch.sum((g_loss + (C * 2.0 * Flattened_Param)) ** 2 )\n",
    "        \n",
    "        #compute residuals\n",
    "        r = e.reshape(-1,1).float() + torch.mm(torch.from_numpy(J).float(),Flattened_Param.float())\n",
    "        \n",
    "        for p in range(virtual_processors):\n",
    "            \n",
    "            # Get current block and indices\n",
    "            block = blocks_t[p]\n",
    "            idx = par_idx[block]\n",
    "            \n",
    "            # Compute current A block\n",
    "            A_rowblock = anp.dot(J[:, idx].T, J)\n",
    "            \n",
    "            # Compute J.T times r\n",
    "            Jr = anp.dot(J[:, idx].T, np.array(r.detach().numpy())).reshape(-1)\n",
    "            \n",
    "            #compute A,b matrices\n",
    "            A = (rho/len(labels))*A_rowblock[:, idx] + (C + tau)*anp.eye(len(idx))\n",
    "            b = ((rho/len(labels))*Jr - ((1-rho)*0.5)*d[idx] + (tau*Flattened_Param.detach().numpy()[idx]).reshape(len(Flattened_Param),)).reshape(-1,1) -\\\n",
    "                (rho/len(labels))*np.dot(A_rowblock[:, par_not_idx[block]], Flattened_Param.detach().numpy()[par_not_idx[block]])\n",
    "                \n",
    "            # Solve surrogate optimization\n",
    "            try:\n",
    "                par_hat = solve(A, b)\n",
    "                # Update auxiliary variables\n",
    "                d[idx] = (1-rho)*d[idx] + rho*g_loss.detach().numpy()[idx]\n",
    "                # Update variable\n",
    "                Flattened_Param[idx] = ((1-step_size)*Flattened_Param[idx]).float() + torch.from_numpy(step_size*par_hat).float()\n",
    "    \n",
    "            except np.linalg.LinAlgError as e:\n",
    "                if 'Singular matrix' in str(e):\n",
    "                    d[idx] = d[idx]\n",
    "                    Flattened_Param[idx] = Flattened_Param[idx]\n",
    "                    message = str(e)\n",
    "                    break\n",
    "                    \n",
    "        \n",
    "        # Update stepsize and rho\n",
    "        rho = rho*(1-rho_eps*rho)\n",
    "        step_size = step_size*(1-step_size_eps*step_size)\n",
    "        \n",
    "        #update the parameters in NN model\n",
    "        NN = unflatten_param(Flattened_Param,NN)\n",
    "            \n",
    "    return NN,err,grad,message"
   ]
  },
  {
   "cell_type": "markdown",
   "metadata": {},
   "source": [
    "## Fashion Mnist Adam Standard"
   ]
  },
  {
   "cell_type": "code",
   "execution_count": 13,
   "metadata": {},
   "outputs": [],
   "source": [
    "device,sequence_length,input_size,hidden_size,num_layers,num_classes,batch_size = init_hyper_param()\n",
    "train = torchvision.datasets.MNIST(root=\"/home/temp/Error_Lstm/data/\",train=True, transform=transforms.ToTensor())\n",
    "C = 0.00\n",
    "SS,b_1,b_2,eps_  = np.array([5.31150547,0.74230775,0.65577941,0.65308379])\n",
    "iters = 600\n",
    "model, parameters = random_initialization_neural_networks(input_size,hidden_size,num_layers,num_classes,device)\n",
    "adam_model,adam_err,adam_grad = adam(model,train,parameters,batch_size,sequence_length,input_size,max_it=iters,step_size=SS,b1=b_1,b2=b_2,eps=eps_,C=C)"
   ]
  },
  {
   "cell_type": "code",
   "execution_count": 14,
   "metadata": {},
   "outputs": [
    {
     "data": {
      "text/plain": [
       "74.8875"
      ]
     },
     "execution_count": 14,
     "metadata": {},
     "output_type": "execute_result"
    }
   ],
   "source": [
    "adam_acc = Valid_Accuracy(adam_model,train,batch_size,sequence_length,input_size)\n",
    "np.mean(adam_acc)"
   ]
  },
  {
   "cell_type": "code",
   "execution_count": 15,
   "metadata": {},
   "outputs": [],
   "source": [
    "Data_Set = pd.DataFrame()\n",
    "Data_Set['err'] = pd.Series(adam_err)\n",
    "Data_Set['grad'] = pd.Series(adam_grad)\n",
    "Data_Set['acc'] = pd.Series(adam_acc)\n",
    "Data_Set.to_csv('Fashion_Adam_Standard.csv')"
   ]
  },
  {
   "cell_type": "code",
   "execution_count": 19,
   "metadata": {},
   "outputs": [
    {
     "data": {
      "text/plain": [
       "[<matplotlib.lines.Line2D at 0x7f720a73cef0>]"
      ]
     },
     "execution_count": 19,
     "metadata": {},
     "output_type": "execute_result"
    },
    {
     "data": {
      "image/png": "[encoded data removed]",
      "text/plain": [
       "<Figure size 432x288 with 1 Axes>"
      ]
     },
     "metadata": {
      "needs_background": "light"
     },
     "output_type": "display_data"
    }
   ],
   "source": [
    "plt.figure()\n",
    "plt.clf()\n",
    "plt.xlabel('Iteration')\n",
    "plt.ylabel('Objective function')\n",
    "plt.title('Objective function')\n",
    "plt.plot(range(iters), adam_err)\n",
    "plt.plot(range(iters), sca_err)"
   ]
  },
  {
   "cell_type": "code",
   "execution_count": null,
   "metadata": {},
   "outputs": [],
   "source": []
  },
  {
   "cell_type": "code",
   "execution_count": 20,
   "metadata": {},
   "outputs": [],
   "source": []
  },
  {
   "cell_type": "code",
   "execution_count": null,
   "metadata": {},
   "outputs": [],
   "source": []
  },
  {
   "cell_type": "code",
   "execution_count": null,
   "metadata": {},
   "outputs": [],
   "source": []
  },
  {
   "cell_type": "code",
   "execution_count": null,
   "metadata": {},
   "outputs": [],
   "source": []
  },
  {
   "cell_type": "code",
   "execution_count": null,
   "metadata": {},
   "outputs": [],
   "source": []
  },
  {
   "cell_type": "code",
   "execution_count": null,
   "metadata": {},
   "outputs": [],
   "source": []
  },
  {
   "cell_type": "markdown",
   "metadata": {},
   "source": [
    "## Fashion Mnist SCA Standard"
   ]
  },
  {
   "cell_type": "code",
   "execution_count": null,
   "metadata": {},
   "outputs": [],
   "source": []
  },
  {
   "cell_type": "code",
   "execution_count": 17,
   "metadata": {},
   "outputs": [],
   "source": [
    "device,sequence_length,input_size,hidden_size,num_layers,num_classes,batch_size = init_hyper_param()\n",
    "train = torchvision.datasets.MNIST(root=\"/home/temp/Error_Lstm/data/\",train=True, transform=transforms.ToTensor())\n",
    "C = 0.00\n",
    "SSE = 0.0\n",
    "rho_eps = 0.0\n",
    "SS,rho, tau  = np.array([2**-0.45944604, 2**-0.27720955, 2**-2.08651111])\n",
    "iters = 600\n",
    "lstm_model,parameters = random_initialization_neural_networks(input_size,hidden_size,num_layers,num_classes,device)\n",
    "sca_model,sca_err,sca_grad,message = sca_ridge(lstm_model,parameters,train,batch_size,sequence_length,input_size,max_it=iters,\n",
    "                                                      step_size=SS,C=C,tau=tau,rho_eps=rho_eps,step_size_eps=SSE,rho=rho)\n"
   ]
  },
  {
   "cell_type": "code",
   "execution_count": null,
   "metadata": {},
   "outputs": [],
   "source": [
    "10 41"
   ]
  },
  {
   "cell_type": "code",
   "execution_count": 18,
   "metadata": {},
   "outputs": [
    {
     "data": {
      "text/plain": [
       "86.79583"
      ]
     },
     "execution_count": 18,
     "metadata": {},
     "output_type": "execute_result"
    }
   ],
   "source": [
    "sca_acc = Valid_Accuracy(sca_model,train,batch_size,sequence_length,input_size)\n",
    "np.mean(sca_acc)"
   ]
  },
  {
   "cell_type": "code",
   "execution_count": null,
   "metadata": {},
   "outputs": [],
   "source": []
  },
  {
   "cell_type": "code",
   "execution_count": 20,
   "metadata": {},
   "outputs": [],
   "source": [
    "Data_Set = pd.DataFrame()\n",
    "Data_Set['err'] = pd.Series(sca_err)\n",
    "Data_Set['grad'] = pd.Series(sca_grad)\n",
    "Data_Set['acc'] = pd.Series(sca_acc)\n",
    "Data_Set.to_csv('Fashion_SCA_Standard.csv')"
   ]
  }
 ],
 "metadata": {
  "kernelspec": {
   "display_name": "Python 3",
   "language": "python",
   "name": "python3"
  },
  "language_info": {
   "codemirror_mode": {
    "name": "ipython",
    "version": 3
   },
   "file_extension": ".py",
   "mimetype": "text/x-python",
   "name": "python",
   "nbconvert_exporter": "python",
   "pygments_lexer": "ipython3",
   "version": "3.6.6"
  }
 },
 "nbformat": 4,
 "nbformat_minor": 2
}
